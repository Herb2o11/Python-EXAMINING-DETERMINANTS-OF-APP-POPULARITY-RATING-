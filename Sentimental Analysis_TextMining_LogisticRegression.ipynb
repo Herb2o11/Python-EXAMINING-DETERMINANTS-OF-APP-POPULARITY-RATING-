{
 "cells": [
  {
   "cell_type": "code",
   "execution_count": 98,
   "metadata": {},
   "outputs": [],
   "source": [
    "%config IPCompleter.greedy=True"
   ]
  },
  {
   "cell_type": "markdown",
   "metadata": {},
   "source": [
    "# WEB SCRAPPING"
   ]
  },
  {
   "cell_type": "markdown",
   "metadata": {},
   "source": [
    "We are using cloudscraper to bypass cloudfare antibot agent. We have a base url that is iterated each time we have to access the next page. We get into a page, fetch the facility name and total reviews for that facility. While scrapping we encountered that there is very less recent data hence we could not perform our analysis over the countermeasures facility might be taking or should take in this pandemic. But we went further and scrapped all four ratings in a list, then divided that list into four ratings."
   ]
  },
  {
   "cell_type": "code",
   "execution_count": null,
   "metadata": {},
   "outputs": [],
   "source": [
    "import requests\n",
    "import pandas as pd \n",
    "import cloudscraper\n",
    "from bs4 import BeautifulSoup\n",
    "\n",
    "\n",
    "import cloudscraper\n",
    "\n",
    "scraper = cloudscraper.create_scraper()\n",
    "\n",
    "base_url = \"https://www.ratemds.com/facilities/?country=ca&page={}\"  # Change base url to this\n",
    "# Moved the list of dicts outsided of the main loop\n",
    "name = []\n",
    "location = []\n",
    "ratings = []\n",
    "col = [\"Name\",\"Cleanliness\",\"Facility\",\"Services\",\"Value\",\"Review\"]\n",
    "final_df = pd.DataFrame(columns=col)\n",
    "\n",
    "for page in range(1, 300):\n",
    "    r = scraper.get(base_url.format(page))   #  substitute 'page' variable in base_url\n",
    "    c = r.content\n",
    "    soup = BeautifulSoup(c, 'html.parser')\n",
    "    all = soup.find_all(\"div\", {\"class\": \"search-item\"})\n",
    "    for item in all:\n",
    "        facility = {}\n",
    "        each_Name = {}\n",
    "        each_Ratings = {}\n",
    "        facility[\"Name\"] = item.find(\"h2\", {\"class\": \"search-item-info search-item-location-name\"}).text\n",
    "        facility[\"Rating\"] = item.find(\"div\", {\"class\": \"star-rating-count\"}).text\n",
    "        n = item.find(\"a\", {\"class\": \"search-item-location-link\"})\n",
    "        a = n.get('href')\n",
    "        new_url = (\"https://www.ratemds.com\"+a)\n",
    "        facility[\"URL\"] = new_url\n",
    "        r1 = scraper.get(new_url)\n",
    "        c1 = r1.content\n",
    "        soup1 = BeautifulSoup(c1, 'html.parser')\n",
    "        sve = soup1.find_all(\"span\", {\"class\": \"value\"})\n",
    "        \n",
    "        for row in sve:\n",
    "                try:\n",
    "\n",
    "                    each_Ratings= row.text\n",
    "                    ratings.append(each_Ratings)\n",
    "                except:\n",
    "\n",
    "                    each_Ratings = None\n",
    "\n",
    "                pass\n",
    "        sv2 = soup1.find_all(\"p\",{\"class\": \"reviewBody white-space-paragraph\"})\n",
    "        for rows in sv2:\n",
    "                try:\n",
    "                    each_Name = facility[\"Name\"]\n",
    "                    each_review= rows.text\n",
    "                    location.append(each_review)\n",
    "                    name.append(each_Name)\n",
    "                except: \n",
    "                    each_Name = None\n",
    "                    each_review= None\n",
    "                pass\n",
    "\n",
    "Rating_df = pd.DataFrame(ratings, columns =['Ratings'])\n",
    "Name_df = pd.DataFrame(name, columns=['Location Name'])\n",
    "Review_df = pd.DataFrame(location, columns=['Reviews'])"
   ]
  },
  {
   "cell_type": "markdown",
   "metadata": {},
   "source": [
    "# PROCESSING SCRAPED DATA"
   ]
  },
  {
   "cell_type": "markdown",
   "metadata": {},
   "source": [
    "After Scraping the data, we have the list of ratings which is divided into four measures cleanliness, facility, services and value. This is to club all the data to make dataframe."
   ]
  },
  {
   "cell_type": "code",
   "execution_count": 85,
   "metadata": {},
   "outputs": [],
   "source": [
    "cleanliness = []\n",
    "facilities = []\n",
    "services = []\n",
    "value = []\n",
    "final_df = pd.DataFrame()\n",
    "for x in range(0,len(ratings),4):\n",
    "    cleanliness.append(ratings[x])\n",
    "for y in range(1,len(ratings),4):\n",
    "    facilities.append(ratings[y])\n",
    "for w in range(2,len(ratings),4):\n",
    "    services.append(ratings[w])\n",
    "for z in range(3,len(ratings),4):\n",
    "    value.append(ratings[z])\n",
    "cleanliness_df = pd.DataFrame(cleanliness,columns=['Cleanliness'])\n",
    "facilty_df = pd.DataFrame(facilities,columns=['Facilities'])\n",
    "service_df = pd.DataFrame(services,columns=['Services'])\n",
    "value_df = pd.DataFrame(value,columns=['Value'])\n",
    "\n",
    "final_df['Facility Name'] = Name_df['Location Name']\n",
    "final_df['Cleanliness'] = cleanliness_df['Cleanliness']\n",
    "final_df['Facilities'] = facilty_df['Facilities']\n",
    "final_df['Services'] = service_df['Services']\n",
    "final_df['Value'] = value_df['Value']\n",
    "final_df['Review'] = Review_df['Reviews']\n",
    "final_df.to_csv(\"1-300_facility_data.csv\")"
   ]
  },
  {
   "cell_type": "code",
   "execution_count": 197,
   "metadata": {},
   "outputs": [
    {
     "data": {
      "text/plain": [
       "Index          0\n",
       "Name           0\n",
       "Cleanliness    0\n",
       "Facility       0\n",
       "Services       0\n",
       "Value          0\n",
       "Review         0\n",
       "dtype: int64"
      ]
     },
     "execution_count": 197,
     "metadata": {},
     "output_type": "execute_result"
    }
   ],
   "source": [
    "final_df.memory_usage()"
   ]
  },
  {
   "cell_type": "markdown",
   "metadata": {},
   "source": [
    "# ASSEMBELLING ALL THE SCRAPPED DATA"
   ]
  },
  {
   "cell_type": "markdown",
   "metadata": {},
   "source": [
    "Since, scrapping was taking quite long so we decided to break it in chunks and then reclub the data back."
   ]
  },
  {
   "cell_type": "code",
   "execution_count": 212,
   "metadata": {},
   "outputs": [],
   "source": [
    "import pandas as pd \n",
    "one = pd.read_csv(\"1-100_facility_data.csv\") \n",
    "two = pd.read_csv(\"100-150_facility_data.csv\") \n",
    "three = pd.read_csv(\"151-250_facility_data.csv\") \n",
    "four = two = pd.read_csv(\"251-252_facility_data.csv\") "
   ]
  },
  {
   "cell_type": "code",
   "execution_count": 213,
   "metadata": {},
   "outputs": [
    {
     "data": {
      "text/html": [
       "<div>\n",
       "<style scoped>\n",
       "    .dataframe tbody tr th:only-of-type {\n",
       "        vertical-align: middle;\n",
       "    }\n",
       "\n",
       "    .dataframe tbody tr th {\n",
       "        vertical-align: top;\n",
       "    }\n",
       "\n",
       "    .dataframe thead th {\n",
       "        text-align: right;\n",
       "    }\n",
       "</style>\n",
       "<table border=\"1\" class=\"dataframe\">\n",
       "  <thead>\n",
       "    <tr style=\"text-align: right;\">\n",
       "      <th></th>\n",
       "      <th>Unnamed: 0</th>\n",
       "      <th>Facility Name</th>\n",
       "      <th>Cleanliness</th>\n",
       "      <th>Facilities</th>\n",
       "      <th>Services</th>\n",
       "      <th>Value</th>\n",
       "      <th>Review</th>\n",
       "    </tr>\n",
       "  </thead>\n",
       "  <tbody>\n",
       "    <tr>\n",
       "      <th>0</th>\n",
       "      <td>0</td>\n",
       "      <td>Century Stone Dental</td>\n",
       "      <td>5</td>\n",
       "      <td>5</td>\n",
       "      <td>5</td>\n",
       "      <td>5.0</td>\n",
       "      <td>Just wanted to show some support for my dentis...</td>\n",
       "    </tr>\n",
       "    <tr>\n",
       "      <th>1</th>\n",
       "      <td>1</td>\n",
       "      <td>Century Stone Dental</td>\n",
       "      <td>5</td>\n",
       "      <td>5</td>\n",
       "      <td>5</td>\n",
       "      <td>5.0</td>\n",
       "      <td>Everyone from the front desk reception staff, ...</td>\n",
       "    </tr>\n",
       "    <tr>\n",
       "      <th>2</th>\n",
       "      <td>2</td>\n",
       "      <td>Century Stone Dental</td>\n",
       "      <td>5</td>\n",
       "      <td>5</td>\n",
       "      <td>5</td>\n",
       "      <td>5.0</td>\n",
       "      <td>Excellent service. My children had a tongue an...</td>\n",
       "    </tr>\n",
       "    <tr>\n",
       "      <th>3</th>\n",
       "      <td>3</td>\n",
       "      <td>Century Stone Dental</td>\n",
       "      <td>5</td>\n",
       "      <td>5</td>\n",
       "      <td>5</td>\n",
       "      <td>5.0</td>\n",
       "      <td>I had a great experience during my first visit...</td>\n",
       "    </tr>\n",
       "    <tr>\n",
       "      <th>4</th>\n",
       "      <td>4</td>\n",
       "      <td>Century Stone Dental</td>\n",
       "      <td>5</td>\n",
       "      <td>5</td>\n",
       "      <td>5</td>\n",
       "      <td>5.0</td>\n",
       "      <td>I couldn’t be more pleased with my experience ...</td>\n",
       "    </tr>\n",
       "    <tr>\n",
       "      <th>...</th>\n",
       "      <td>...</td>\n",
       "      <td>...</td>\n",
       "      <td>...</td>\n",
       "      <td>...</td>\n",
       "      <td>...</td>\n",
       "      <td>...</td>\n",
       "      <td>...</td>\n",
       "    </tr>\n",
       "    <tr>\n",
       "      <th>5763</th>\n",
       "      <td>1970</td>\n",
       "      <td>Centre Hospitalier Le Gardeaur</td>\n",
       "      <td>1</td>\n",
       "      <td>1</td>\n",
       "      <td>1</td>\n",
       "      <td>1.0</td>\n",
       "      <td>Worst hospital ever! Have been to ER 3 times a...</td>\n",
       "    </tr>\n",
       "    <tr>\n",
       "      <th>5764</th>\n",
       "      <td>1971</td>\n",
       "      <td>Centre Hospitalier Le Gardeaur</td>\n",
       "      <td>5</td>\n",
       "      <td>4</td>\n",
       "      <td>4</td>\n",
       "      <td>4.0</td>\n",
       "      <td>Le Centre hospitalier le Gardeur est en croiss...</td>\n",
       "    </tr>\n",
       "    <tr>\n",
       "      <th>5765</th>\n",
       "      <td>0</td>\n",
       "      <td>Holy Family Hospital</td>\n",
       "      <td>5</td>\n",
       "      <td>5</td>\n",
       "      <td>5</td>\n",
       "      <td>5.0</td>\n",
       "      <td>The Rehab floor is second to none. Great physi...</td>\n",
       "    </tr>\n",
       "    <tr>\n",
       "      <th>5766</th>\n",
       "      <td>1</td>\n",
       "      <td>Holy Family Hospital</td>\n",
       "      <td>1</td>\n",
       "      <td>1</td>\n",
       "      <td>2</td>\n",
       "      <td>1.0</td>\n",
       "      <td>Dirty, language barrier from many staff, in ed...</td>\n",
       "    </tr>\n",
       "    <tr>\n",
       "      <th>5767</th>\n",
       "      <td>2</td>\n",
       "      <td>Holy Family Hospital</td>\n",
       "      <td>4</td>\n",
       "      <td>4</td>\n",
       "      <td>5</td>\n",
       "      <td>5.0</td>\n",
       "      <td>Holy Family is an excellent rehab hospital. I ...</td>\n",
       "    </tr>\n",
       "  </tbody>\n",
       "</table>\n",
       "<p>5768 rows × 7 columns</p>\n",
       "</div>"
      ],
      "text/plain": [
       "      Unnamed: 0                   Facility Name  Cleanliness  Facilities  \\\n",
       "0              0            Century Stone Dental            5           5   \n",
       "1              1            Century Stone Dental            5           5   \n",
       "2              2            Century Stone Dental            5           5   \n",
       "3              3            Century Stone Dental            5           5   \n",
       "4              4            Century Stone Dental            5           5   \n",
       "...          ...                             ...          ...         ...   \n",
       "5763        1970  Centre Hospitalier Le Gardeaur            1           1   \n",
       "5764        1971  Centre Hospitalier Le Gardeaur            5           4   \n",
       "5765           0            Holy Family Hospital            5           5   \n",
       "5766           1            Holy Family Hospital            1           1   \n",
       "5767           2            Holy Family Hospital            4           4   \n",
       "\n",
       "      Services  Value                                             Review  \n",
       "0            5    5.0  Just wanted to show some support for my dentis...  \n",
       "1            5    5.0  Everyone from the front desk reception staff, ...  \n",
       "2            5    5.0  Excellent service. My children had a tongue an...  \n",
       "3            5    5.0  I had a great experience during my first visit...  \n",
       "4            5    5.0  I couldn’t be more pleased with my experience ...  \n",
       "...        ...    ...                                                ...  \n",
       "5763         1    1.0  Worst hospital ever! Have been to ER 3 times a...  \n",
       "5764         4    4.0  Le Centre hospitalier le Gardeur est en croiss...  \n",
       "5765         5    5.0  The Rehab floor is second to none. Great physi...  \n",
       "5766         2    1.0  Dirty, language barrier from many staff, in ed...  \n",
       "5767         5    5.0  Holy Family is an excellent rehab hospital. I ...  \n",
       "\n",
       "[5768 rows x 7 columns]"
      ]
     },
     "execution_count": 213,
     "metadata": {},
     "output_type": "execute_result"
    }
   ],
   "source": [
    "facilityReview_df = pd.DataFrame()\n",
    "facilityReview_df = pd.concat([one,two,three,four],ignore_index=True)\n",
    "facilityReview_df"
   ]
  },
  {
   "cell_type": "code",
   "execution_count": 214,
   "metadata": {},
   "outputs": [],
   "source": [
    "#Vizualization libraries\n",
    "import numpy as np\n",
    "import seaborn as sns\n",
    "%matplotlib inline\n",
    "import matplotlib.pyplot as plt\n",
    "import random\n"
   ]
  },
  {
   "cell_type": "markdown",
   "metadata": {},
   "source": [
    "Let’s check the .describe() method to see how many instances we’re dealing with and other basic statistics:"
   ]
  },
  {
   "cell_type": "code",
   "execution_count": 215,
   "metadata": {},
   "outputs": [
    {
     "data": {
      "text/html": [
       "<div>\n",
       "<style scoped>\n",
       "    .dataframe tbody tr th:only-of-type {\n",
       "        vertical-align: middle;\n",
       "    }\n",
       "\n",
       "    .dataframe tbody tr th {\n",
       "        vertical-align: top;\n",
       "    }\n",
       "\n",
       "    .dataframe thead th {\n",
       "        text-align: right;\n",
       "    }\n",
       "</style>\n",
       "<table border=\"1\" class=\"dataframe\">\n",
       "  <thead>\n",
       "    <tr style=\"text-align: right;\">\n",
       "      <th></th>\n",
       "      <th>Unnamed: 0</th>\n",
       "      <th>Cleanliness</th>\n",
       "      <th>Facilities</th>\n",
       "      <th>Services</th>\n",
       "      <th>Value</th>\n",
       "    </tr>\n",
       "  </thead>\n",
       "  <tbody>\n",
       "    <tr>\n",
       "      <th>count</th>\n",
       "      <td>5768.000000</td>\n",
       "      <td>5768.000000</td>\n",
       "      <td>5768.000000</td>\n",
       "      <td>5768.000000</td>\n",
       "      <td>5767.000000</td>\n",
       "    </tr>\n",
       "    <tr>\n",
       "      <th>mean</th>\n",
       "      <td>1581.755721</td>\n",
       "      <td>4.124480</td>\n",
       "      <td>4.007282</td>\n",
       "      <td>3.845354</td>\n",
       "      <td>3.833189</td>\n",
       "    </tr>\n",
       "    <tr>\n",
       "      <th>std</th>\n",
       "      <td>1042.074293</td>\n",
       "      <td>1.405149</td>\n",
       "      <td>1.493625</td>\n",
       "      <td>1.699971</td>\n",
       "      <td>1.675222</td>\n",
       "    </tr>\n",
       "    <tr>\n",
       "      <th>min</th>\n",
       "      <td>0.000000</td>\n",
       "      <td>1.000000</td>\n",
       "      <td>1.000000</td>\n",
       "      <td>1.000000</td>\n",
       "      <td>1.000000</td>\n",
       "    </tr>\n",
       "    <tr>\n",
       "      <th>25%</th>\n",
       "      <td>717.750000</td>\n",
       "      <td>4.000000</td>\n",
       "      <td>3.000000</td>\n",
       "      <td>2.000000</td>\n",
       "      <td>2.000000</td>\n",
       "    </tr>\n",
       "    <tr>\n",
       "      <th>50%</th>\n",
       "      <td>1438.500000</td>\n",
       "      <td>5.000000</td>\n",
       "      <td>5.000000</td>\n",
       "      <td>5.000000</td>\n",
       "      <td>5.000000</td>\n",
       "    </tr>\n",
       "    <tr>\n",
       "      <th>75%</th>\n",
       "      <td>2347.250000</td>\n",
       "      <td>5.000000</td>\n",
       "      <td>5.000000</td>\n",
       "      <td>5.000000</td>\n",
       "      <td>5.000000</td>\n",
       "    </tr>\n",
       "    <tr>\n",
       "      <th>max</th>\n",
       "      <td>3789.000000</td>\n",
       "      <td>5.000000</td>\n",
       "      <td>5.000000</td>\n",
       "      <td>5.000000</td>\n",
       "      <td>5.000000</td>\n",
       "    </tr>\n",
       "  </tbody>\n",
       "</table>\n",
       "</div>"
      ],
      "text/plain": [
       "        Unnamed: 0  Cleanliness   Facilities     Services        Value\n",
       "count  5768.000000  5768.000000  5768.000000  5768.000000  5767.000000\n",
       "mean   1581.755721     4.124480     4.007282     3.845354     3.833189\n",
       "std    1042.074293     1.405149     1.493625     1.699971     1.675222\n",
       "min       0.000000     1.000000     1.000000     1.000000     1.000000\n",
       "25%     717.750000     4.000000     3.000000     2.000000     2.000000\n",
       "50%    1438.500000     5.000000     5.000000     5.000000     5.000000\n",
       "75%    2347.250000     5.000000     5.000000     5.000000     5.000000\n",
       "max    3789.000000     5.000000     5.000000     5.000000     5.000000"
      ]
     },
     "execution_count": 215,
     "metadata": {},
     "output_type": "execute_result"
    }
   ],
   "source": [
    "facilityReview_df.describe()"
   ]
  },
  {
   "cell_type": "markdown",
   "metadata": {},
   "source": [
    "### It appears facilities in Canada have performed very well in this sample. The overall mean for ratings is 4.0, and the 75% mark is a 5 star review! This tells us there are a disproportionate amount of 1 star reviews. Hopefully we can gain insight into this by building a model."
   ]
  },
  {
   "cell_type": "code",
   "execution_count": 216,
   "metadata": {},
   "outputs": [
    {
     "data": {
      "text/plain": [
       "Unnamed: 0       0\n",
       "Facility Name    0\n",
       "Cleanliness      0\n",
       "Facilities       0\n",
       "Services         0\n",
       "Value            1\n",
       "Review           0\n",
       "dtype: int64"
      ]
     },
     "execution_count": 216,
     "metadata": {},
     "output_type": "execute_result"
    }
   ],
   "source": [
    "#checking for nulls\n",
    "null_count = facilityReview_df.isnull().sum()\n",
    "null_count"
   ]
  },
  {
   "cell_type": "markdown",
   "metadata": {},
   "source": [
    "Removing NULL instances."
   ]
  },
  {
   "cell_type": "code",
   "execution_count": 217,
   "metadata": {},
   "outputs": [],
   "source": [
    "facilityReview_df.dropna(axis=0, how='any', thresh=None, subset=None, inplace=True)"
   ]
  },
  {
   "cell_type": "code",
   "execution_count": 218,
   "metadata": {},
   "outputs": [
    {
     "data": {
      "text/plain": [
       "Unnamed: 0       0\n",
       "Facility Name    0\n",
       "Cleanliness      0\n",
       "Facilities       0\n",
       "Services         0\n",
       "Value            0\n",
       "Review           0\n",
       "dtype: int64"
      ]
     },
     "execution_count": 218,
     "metadata": {},
     "output_type": "execute_result"
    }
   ],
   "source": [
    "#checking for nulls\n",
    "null_count = facilityReview_df.isnull().sum()\n",
    "null_count"
   ]
  },
  {
   "cell_type": "markdown",
   "metadata": {},
   "source": [
    "# VISUALIZATION"
   ]
  },
  {
   "cell_type": "markdown",
   "metadata": {},
   "source": [
    "The charts below showcase the count of each rating over total number of ratings, it will provide an Idea if all the ratings are positively skewed and If skewed how well the model will perform to know if the rating is positive or negative."
   ]
  },
  {
   "cell_type": "code",
   "execution_count": 219,
   "metadata": {},
   "outputs": [
    {
     "data": {
      "image/png": "[encoded data removed]",
      "text/plain": [
       "<Figure size 432x288 with 1 Axes>"
      ]
     },
     "metadata": {
      "needs_background": "light"
     },
     "output_type": "display_data"
    }
   ],
   "source": [
    "#seperating by groups\n",
    "groups = facilityReview_df.groupby('Cleanliness').count()\n",
    "Values = groups.Review\n",
    "colors = ['r', 'g', 'b', 'c', 'm']\n",
    "#making bar plot\n",
    "plt.bar(([1,2,3,4,5]), Values, color= colors)\n",
    "plt.title('Rating Distribution')\n",
    "plt.xlabel('Cleanliness Rating')\n",
    "plt.ylabel('Review Quantity')\n",
    "plt.show()"
   ]
  },
  {
   "cell_type": "code",
   "execution_count": 220,
   "metadata": {},
   "outputs": [
    {
     "data": {
      "image/png": "[encoded data removed]",
      "text/plain": [
       "<Figure size 432x288 with 1 Axes>"
      ]
     },
     "metadata": {
      "needs_background": "light"
     },
     "output_type": "display_data"
    }
   ],
   "source": [
    "#seperating by groups\n",
    "groups = facilityReview_df.groupby('Facilities').count()\n",
    "Values = groups.Review\n",
    "colors = ['r', 'g', 'b', 'c', 'm']\n",
    "#making bar plot\n",
    "plt.bar(([1,2,3,4,5]), Values, color= colors)\n",
    "plt.title('Rating Distribution')\n",
    "plt.xlabel('Facilities Rating')\n",
    "plt.ylabel('Review Quantity')\n",
    "plt.show()"
   ]
  },
  {
   "cell_type": "code",
   "execution_count": 221,
   "metadata": {},
   "outputs": [
    {
     "data": {
      "image/png": "[encoded data removed]",
      "text/plain": [
       "<Figure size 432x288 with 1 Axes>"
      ]
     },
     "metadata": {
      "needs_background": "light"
     },
     "output_type": "display_data"
    }
   ],
   "source": [
    "#seperating by groups\n",
    "groups = facilityReview_df.groupby('Services').count()\n",
    "Values = groups.Review\n",
    "colors = ['r', 'g', 'b', 'c', 'm']\n",
    "#making bar plot\n",
    "plt.bar(([1,2,3,4,5]), Values, color= colors)\n",
    "plt.title('Rating Distribution')\n",
    "plt.xlabel('Services Rating')\n",
    "plt.ylabel('Review Quantity')\n",
    "plt.show()"
   ]
  },
  {
   "cell_type": "code",
   "execution_count": 222,
   "metadata": {},
   "outputs": [
    {
     "data": {
      "image/png": "[encoded data removed]",
      "text/plain": [
       "<Figure size 432x288 with 1 Axes>"
      ]
     },
     "metadata": {
      "needs_background": "light"
     },
     "output_type": "display_data"
    }
   ],
   "source": [
    "#seperating by groups\n",
    "groups = facilityReview_df.groupby('Value').count()\n",
    "Values = groups.Review\n",
    "colors = ['r', 'g', 'b', 'c', 'm']\n",
    "#making bar plot\n",
    "plt.bar(([1,2,3,4,5]), Values, color= colors)\n",
    "plt.title('Rating Distribution')\n",
    "plt.xlabel('Value Rating')\n",
    "plt.ylabel('Review Quantity')\n",
    "plt.show()"
   ]
  },
  {
   "cell_type": "markdown",
   "metadata": {},
   "source": [
    "# In order to perform the logistic regression later, we need to figure out a way to turn these 5 ratings categories into binary classes (1 and 0). Remember, logistic regression only handles “either/or” target variables. The best way to turn the star ratings into binary classes(in my opinion) is:\n",
    "Set ratings below 3 stars as class 0 (negative sentiment)\n",
    "Set ratings above 3 as class 1 (positive sentiment)\n",
    "Delete the 3 star ratings. 3 stars are neutral and offer no sentiment insight.\n",
    "So, let’s make a new column that deletes the 3 star ratings and creates a new column which classifies the other ratings into binary classes:"
   ]
  },
  {
   "cell_type": "code",
   "execution_count": 223,
   "metadata": {},
   "outputs": [
    {
     "data": {
      "image/png": "[encoded data removed]",
      "text/plain": [
       "<Figure size 432x288 with 1 Axes>"
      ]
     },
     "metadata": {
      "needs_background": "light"
     },
     "output_type": "display_data"
    }
   ],
   "source": [
    "#deleting all instances with Cleanliness = 3\n",
    "facilityReview_df = facilityReview_df[facilityReview_df.Cleanliness != 3]\n",
    "#separating by groups\n",
    "groups = facilityReview_df.groupby('Cleanliness').count()\n",
    "Values = groups.Review\n",
    "colors = ['r', 'g', 'b', 'c']\n",
    "#making bar plot\n",
    "plt.bar(([1,2,4,5]), Values, color= colors)\n",
    "plt.title('Rating Distribution')\n",
    "plt.xlabel('Cleanliness Rating')\n",
    "plt.ylabel('Review Quantity')\n",
    "plt.show()"
   ]
  },
  {
   "cell_type": "code",
   "execution_count": 224,
   "metadata": {},
   "outputs": [
    {
     "data": {
      "image/png": "[encoded data removed]",
      "text/plain": [
       "<Figure size 432x288 with 1 Axes>"
      ]
     },
     "metadata": {
      "needs_background": "light"
     },
     "output_type": "display_data"
    }
   ],
   "source": [
    "#deleting all instances with Facilities = 3\n",
    "facilityReview_df = facilityReview_df[facilityReview_df.Facilities != 3]\n",
    "#separating by groups\n",
    "groups = facilityReview_df.groupby('Facilities').count()\n",
    "Values = groups.Review\n",
    "colors = ['r', 'g', 'b', 'c']\n",
    "#making bar plot\n",
    "plt.bar(([1,2,4,5]), Values, color= colors)\n",
    "plt.title('Rating Distribution')\n",
    "plt.xlabel('Facilities Rating')\n",
    "plt.ylabel('Review Quantity')\n",
    "plt.show()"
   ]
  },
  {
   "cell_type": "code",
   "execution_count": 225,
   "metadata": {},
   "outputs": [
    {
     "data": {
      "image/png": "[encoded data removed]",
      "text/plain": [
       "<Figure size 432x288 with 1 Axes>"
      ]
     },
     "metadata": {
      "needs_background": "light"
     },
     "output_type": "display_data"
    }
   ],
   "source": [
    "#deleting all instances with Services = 3\n",
    "facilityReview_df = facilityReview_df[facilityReview_df.Services != 3]\n",
    "#separating by groups\n",
    "groups = facilityReview_df.groupby('Services').count()\n",
    "Values = groups.Review\n",
    "colors = ['r', 'g', 'b', 'c']\n",
    "#making bar plot\n",
    "plt.bar(([1,2,4,5]), Values, color= colors)\n",
    "plt.title('Rating Distribution')\n",
    "plt.xlabel('Services Rating')\n",
    "plt.ylabel('Review Quantity')\n",
    "plt.show()"
   ]
  },
  {
   "cell_type": "code",
   "execution_count": 226,
   "metadata": {},
   "outputs": [
    {
     "data": {
      "image/png": "[encoded data removed]",
      "text/plain": [
       "<Figure size 432x288 with 1 Axes>"
      ]
     },
     "metadata": {
      "needs_background": "light"
     },
     "output_type": "display_data"
    }
   ],
   "source": [
    "#deleting all instances with Value = 3\n",
    "facilityReview_df = facilityReview_df[facilityReview_df.Value != 3]\n",
    "#separating by groups\n",
    "groups = facilityReview_df.groupby('Value').count()\n",
    "Values = groups.Review\n",
    "colors = ['r', 'g', 'b', 'c']\n",
    "#making bar plot\n",
    "plt.bar(([1,2,4,5]), Values, color= colors)\n",
    "plt.title('Rating Distribution')\n",
    "plt.xlabel('Value Rating')\n",
    "plt.ylabel('Review Quantity')\n",
    "plt.show()"
   ]
  },
  {
   "cell_type": "markdown",
   "metadata": {},
   "source": [
    "### Creating binary columns for all four review measures to perform logistic regression."
   ]
  },
  {
   "cell_type": "code",
   "execution_count": 227,
   "metadata": {},
   "outputs": [
    {
     "data": {
      "text/html": [
       "<div>\n",
       "<style scoped>\n",
       "    .dataframe tbody tr th:only-of-type {\n",
       "        vertical-align: middle;\n",
       "    }\n",
       "\n",
       "    .dataframe tbody tr th {\n",
       "        vertical-align: top;\n",
       "    }\n",
       "\n",
       "    .dataframe thead th {\n",
       "        text-align: right;\n",
       "    }\n",
       "</style>\n",
       "<table border=\"1\" class=\"dataframe\">\n",
       "  <thead>\n",
       "    <tr style=\"text-align: right;\">\n",
       "      <th></th>\n",
       "      <th>Unnamed: 0</th>\n",
       "      <th>Facility Name</th>\n",
       "      <th>Cleanliness</th>\n",
       "      <th>Facilities</th>\n",
       "      <th>Services</th>\n",
       "      <th>Value</th>\n",
       "      <th>Review</th>\n",
       "      <th>cleanliness_binary_class</th>\n",
       "    </tr>\n",
       "  </thead>\n",
       "  <tbody>\n",
       "    <tr>\n",
       "      <th>0</th>\n",
       "      <td>0</td>\n",
       "      <td>Century Stone Dental</td>\n",
       "      <td>5</td>\n",
       "      <td>5</td>\n",
       "      <td>5</td>\n",
       "      <td>5.0</td>\n",
       "      <td>Just wanted to show some support for my dentis...</td>\n",
       "      <td>1</td>\n",
       "    </tr>\n",
       "    <tr>\n",
       "      <th>1</th>\n",
       "      <td>1</td>\n",
       "      <td>Century Stone Dental</td>\n",
       "      <td>5</td>\n",
       "      <td>5</td>\n",
       "      <td>5</td>\n",
       "      <td>5.0</td>\n",
       "      <td>Everyone from the front desk reception staff, ...</td>\n",
       "      <td>1</td>\n",
       "    </tr>\n",
       "    <tr>\n",
       "      <th>2</th>\n",
       "      <td>2</td>\n",
       "      <td>Century Stone Dental</td>\n",
       "      <td>5</td>\n",
       "      <td>5</td>\n",
       "      <td>5</td>\n",
       "      <td>5.0</td>\n",
       "      <td>Excellent service. My children had a tongue an...</td>\n",
       "      <td>1</td>\n",
       "    </tr>\n",
       "    <tr>\n",
       "      <th>3</th>\n",
       "      <td>3</td>\n",
       "      <td>Century Stone Dental</td>\n",
       "      <td>5</td>\n",
       "      <td>5</td>\n",
       "      <td>5</td>\n",
       "      <td>5.0</td>\n",
       "      <td>I had a great experience during my first visit...</td>\n",
       "      <td>1</td>\n",
       "    </tr>\n",
       "    <tr>\n",
       "      <th>4</th>\n",
       "      <td>4</td>\n",
       "      <td>Century Stone Dental</td>\n",
       "      <td>5</td>\n",
       "      <td>5</td>\n",
       "      <td>5</td>\n",
       "      <td>5.0</td>\n",
       "      <td>I couldn’t be more pleased with my experience ...</td>\n",
       "      <td>1</td>\n",
       "    </tr>\n",
       "    <tr>\n",
       "      <th>...</th>\n",
       "      <td>...</td>\n",
       "      <td>...</td>\n",
       "      <td>...</td>\n",
       "      <td>...</td>\n",
       "      <td>...</td>\n",
       "      <td>...</td>\n",
       "      <td>...</td>\n",
       "      <td>...</td>\n",
       "    </tr>\n",
       "    <tr>\n",
       "      <th>5763</th>\n",
       "      <td>1970</td>\n",
       "      <td>Centre Hospitalier Le Gardeaur</td>\n",
       "      <td>1</td>\n",
       "      <td>1</td>\n",
       "      <td>1</td>\n",
       "      <td>1.0</td>\n",
       "      <td>Worst hospital ever! Have been to ER 3 times a...</td>\n",
       "      <td>0</td>\n",
       "    </tr>\n",
       "    <tr>\n",
       "      <th>5764</th>\n",
       "      <td>1971</td>\n",
       "      <td>Centre Hospitalier Le Gardeaur</td>\n",
       "      <td>5</td>\n",
       "      <td>4</td>\n",
       "      <td>4</td>\n",
       "      <td>4.0</td>\n",
       "      <td>Le Centre hospitalier le Gardeur est en croiss...</td>\n",
       "      <td>1</td>\n",
       "    </tr>\n",
       "    <tr>\n",
       "      <th>5765</th>\n",
       "      <td>0</td>\n",
       "      <td>Holy Family Hospital</td>\n",
       "      <td>5</td>\n",
       "      <td>5</td>\n",
       "      <td>5</td>\n",
       "      <td>5.0</td>\n",
       "      <td>The Rehab floor is second to none. Great physi...</td>\n",
       "      <td>1</td>\n",
       "    </tr>\n",
       "    <tr>\n",
       "      <th>5766</th>\n",
       "      <td>1</td>\n",
       "      <td>Holy Family Hospital</td>\n",
       "      <td>1</td>\n",
       "      <td>1</td>\n",
       "      <td>2</td>\n",
       "      <td>1.0</td>\n",
       "      <td>Dirty, language barrier from many staff, in ed...</td>\n",
       "      <td>0</td>\n",
       "    </tr>\n",
       "    <tr>\n",
       "      <th>5767</th>\n",
       "      <td>2</td>\n",
       "      <td>Holy Family Hospital</td>\n",
       "      <td>4</td>\n",
       "      <td>4</td>\n",
       "      <td>5</td>\n",
       "      <td>5.0</td>\n",
       "      <td>Holy Family is an excellent rehab hospital. I ...</td>\n",
       "      <td>1</td>\n",
       "    </tr>\n",
       "  </tbody>\n",
       "</table>\n",
       "<p>4879 rows × 8 columns</p>\n",
       "</div>"
      ],
      "text/plain": [
       "      Unnamed: 0                   Facility Name  Cleanliness  Facilities  \\\n",
       "0              0            Century Stone Dental            5           5   \n",
       "1              1            Century Stone Dental            5           5   \n",
       "2              2            Century Stone Dental            5           5   \n",
       "3              3            Century Stone Dental            5           5   \n",
       "4              4            Century Stone Dental            5           5   \n",
       "...          ...                             ...          ...         ...   \n",
       "5763        1970  Centre Hospitalier Le Gardeaur            1           1   \n",
       "5764        1971  Centre Hospitalier Le Gardeaur            5           4   \n",
       "5765           0            Holy Family Hospital            5           5   \n",
       "5766           1            Holy Family Hospital            1           1   \n",
       "5767           2            Holy Family Hospital            4           4   \n",
       "\n",
       "      Services  Value                                             Review  \\\n",
       "0            5    5.0  Just wanted to show some support for my dentis...   \n",
       "1            5    5.0  Everyone from the front desk reception staff, ...   \n",
       "2            5    5.0  Excellent service. My children had a tongue an...   \n",
       "3            5    5.0  I had a great experience during my first visit...   \n",
       "4            5    5.0  I couldn’t be more pleased with my experience ...   \n",
       "...        ...    ...                                                ...   \n",
       "5763         1    1.0  Worst hospital ever! Have been to ER 3 times a...   \n",
       "5764         4    4.0  Le Centre hospitalier le Gardeur est en croiss...   \n",
       "5765         5    5.0  The Rehab floor is second to none. Great physi...   \n",
       "5766         2    1.0  Dirty, language barrier from many staff, in ed...   \n",
       "5767         5    5.0  Holy Family is an excellent rehab hospital. I ...   \n",
       "\n",
       "      cleanliness_binary_class  \n",
       "0                            1  \n",
       "1                            1  \n",
       "2                            1  \n",
       "3                            1  \n",
       "4                            1  \n",
       "...                        ...  \n",
       "5763                         0  \n",
       "5764                         1  \n",
       "5765                         1  \n",
       "5766                         0  \n",
       "5767                         1  \n",
       "\n",
       "[4879 rows x 8 columns]"
      ]
     },
     "execution_count": 227,
     "metadata": {},
     "output_type": "execute_result"
    }
   ],
   "source": [
    "#creating new cleanliness_binary_class column\n",
    "facilityReview_df['cleanliness_binary_class'] = np.where(facilityReview_df['Cleanliness'] > 3, 1, 0)\n",
    "facilityReview_df"
   ]
  },
  {
   "cell_type": "code",
   "execution_count": 228,
   "metadata": {},
   "outputs": [
    {
     "data": {
      "text/html": [
       "<div>\n",
       "<style scoped>\n",
       "    .dataframe tbody tr th:only-of-type {\n",
       "        vertical-align: middle;\n",
       "    }\n",
       "\n",
       "    .dataframe tbody tr th {\n",
       "        vertical-align: top;\n",
       "    }\n",
       "\n",
       "    .dataframe thead th {\n",
       "        text-align: right;\n",
       "    }\n",
       "</style>\n",
       "<table border=\"1\" class=\"dataframe\">\n",
       "  <thead>\n",
       "    <tr style=\"text-align: right;\">\n",
       "      <th></th>\n",
       "      <th>Unnamed: 0</th>\n",
       "      <th>Facility Name</th>\n",
       "      <th>Cleanliness</th>\n",
       "      <th>Facilities</th>\n",
       "      <th>Services</th>\n",
       "      <th>Value</th>\n",
       "      <th>Review</th>\n",
       "      <th>cleanliness_binary_class</th>\n",
       "      <th>facility_binary_class</th>\n",
       "    </tr>\n",
       "  </thead>\n",
       "  <tbody>\n",
       "    <tr>\n",
       "      <th>0</th>\n",
       "      <td>0</td>\n",
       "      <td>Century Stone Dental</td>\n",
       "      <td>5</td>\n",
       "      <td>5</td>\n",
       "      <td>5</td>\n",
       "      <td>5.0</td>\n",
       "      <td>Just wanted to show some support for my dentis...</td>\n",
       "      <td>1</td>\n",
       "      <td>1</td>\n",
       "    </tr>\n",
       "    <tr>\n",
       "      <th>1</th>\n",
       "      <td>1</td>\n",
       "      <td>Century Stone Dental</td>\n",
       "      <td>5</td>\n",
       "      <td>5</td>\n",
       "      <td>5</td>\n",
       "      <td>5.0</td>\n",
       "      <td>Everyone from the front desk reception staff, ...</td>\n",
       "      <td>1</td>\n",
       "      <td>1</td>\n",
       "    </tr>\n",
       "    <tr>\n",
       "      <th>2</th>\n",
       "      <td>2</td>\n",
       "      <td>Century Stone Dental</td>\n",
       "      <td>5</td>\n",
       "      <td>5</td>\n",
       "      <td>5</td>\n",
       "      <td>5.0</td>\n",
       "      <td>Excellent service. My children had a tongue an...</td>\n",
       "      <td>1</td>\n",
       "      <td>1</td>\n",
       "    </tr>\n",
       "    <tr>\n",
       "      <th>3</th>\n",
       "      <td>3</td>\n",
       "      <td>Century Stone Dental</td>\n",
       "      <td>5</td>\n",
       "      <td>5</td>\n",
       "      <td>5</td>\n",
       "      <td>5.0</td>\n",
       "      <td>I had a great experience during my first visit...</td>\n",
       "      <td>1</td>\n",
       "      <td>1</td>\n",
       "    </tr>\n",
       "    <tr>\n",
       "      <th>4</th>\n",
       "      <td>4</td>\n",
       "      <td>Century Stone Dental</td>\n",
       "      <td>5</td>\n",
       "      <td>5</td>\n",
       "      <td>5</td>\n",
       "      <td>5.0</td>\n",
       "      <td>I couldn’t be more pleased with my experience ...</td>\n",
       "      <td>1</td>\n",
       "      <td>1</td>\n",
       "    </tr>\n",
       "    <tr>\n",
       "      <th>...</th>\n",
       "      <td>...</td>\n",
       "      <td>...</td>\n",
       "      <td>...</td>\n",
       "      <td>...</td>\n",
       "      <td>...</td>\n",
       "      <td>...</td>\n",
       "      <td>...</td>\n",
       "      <td>...</td>\n",
       "      <td>...</td>\n",
       "    </tr>\n",
       "    <tr>\n",
       "      <th>5763</th>\n",
       "      <td>1970</td>\n",
       "      <td>Centre Hospitalier Le Gardeaur</td>\n",
       "      <td>1</td>\n",
       "      <td>1</td>\n",
       "      <td>1</td>\n",
       "      <td>1.0</td>\n",
       "      <td>Worst hospital ever! Have been to ER 3 times a...</td>\n",
       "      <td>0</td>\n",
       "      <td>0</td>\n",
       "    </tr>\n",
       "    <tr>\n",
       "      <th>5764</th>\n",
       "      <td>1971</td>\n",
       "      <td>Centre Hospitalier Le Gardeaur</td>\n",
       "      <td>5</td>\n",
       "      <td>4</td>\n",
       "      <td>4</td>\n",
       "      <td>4.0</td>\n",
       "      <td>Le Centre hospitalier le Gardeur est en croiss...</td>\n",
       "      <td>1</td>\n",
       "      <td>1</td>\n",
       "    </tr>\n",
       "    <tr>\n",
       "      <th>5765</th>\n",
       "      <td>0</td>\n",
       "      <td>Holy Family Hospital</td>\n",
       "      <td>5</td>\n",
       "      <td>5</td>\n",
       "      <td>5</td>\n",
       "      <td>5.0</td>\n",
       "      <td>The Rehab floor is second to none. Great physi...</td>\n",
       "      <td>1</td>\n",
       "      <td>1</td>\n",
       "    </tr>\n",
       "    <tr>\n",
       "      <th>5766</th>\n",
       "      <td>1</td>\n",
       "      <td>Holy Family Hospital</td>\n",
       "      <td>1</td>\n",
       "      <td>1</td>\n",
       "      <td>2</td>\n",
       "      <td>1.0</td>\n",
       "      <td>Dirty, language barrier from many staff, in ed...</td>\n",
       "      <td>0</td>\n",
       "      <td>0</td>\n",
       "    </tr>\n",
       "    <tr>\n",
       "      <th>5767</th>\n",
       "      <td>2</td>\n",
       "      <td>Holy Family Hospital</td>\n",
       "      <td>4</td>\n",
       "      <td>4</td>\n",
       "      <td>5</td>\n",
       "      <td>5.0</td>\n",
       "      <td>Holy Family is an excellent rehab hospital. I ...</td>\n",
       "      <td>1</td>\n",
       "      <td>1</td>\n",
       "    </tr>\n",
       "  </tbody>\n",
       "</table>\n",
       "<p>4879 rows × 9 columns</p>\n",
       "</div>"
      ],
      "text/plain": [
       "      Unnamed: 0                   Facility Name  Cleanliness  Facilities  \\\n",
       "0              0            Century Stone Dental            5           5   \n",
       "1              1            Century Stone Dental            5           5   \n",
       "2              2            Century Stone Dental            5           5   \n",
       "3              3            Century Stone Dental            5           5   \n",
       "4              4            Century Stone Dental            5           5   \n",
       "...          ...                             ...          ...         ...   \n",
       "5763        1970  Centre Hospitalier Le Gardeaur            1           1   \n",
       "5764        1971  Centre Hospitalier Le Gardeaur            5           4   \n",
       "5765           0            Holy Family Hospital            5           5   \n",
       "5766           1            Holy Family Hospital            1           1   \n",
       "5767           2            Holy Family Hospital            4           4   \n",
       "\n",
       "      Services  Value                                             Review  \\\n",
       "0            5    5.0  Just wanted to show some support for my dentis...   \n",
       "1            5    5.0  Everyone from the front desk reception staff, ...   \n",
       "2            5    5.0  Excellent service. My children had a tongue an...   \n",
       "3            5    5.0  I had a great experience during my first visit...   \n",
       "4            5    5.0  I couldn’t be more pleased with my experience ...   \n",
       "...        ...    ...                                                ...   \n",
       "5763         1    1.0  Worst hospital ever! Have been to ER 3 times a...   \n",
       "5764         4    4.0  Le Centre hospitalier le Gardeur est en croiss...   \n",
       "5765         5    5.0  The Rehab floor is second to none. Great physi...   \n",
       "5766         2    1.0  Dirty, language barrier from many staff, in ed...   \n",
       "5767         5    5.0  Holy Family is an excellent rehab hospital. I ...   \n",
       "\n",
       "      cleanliness_binary_class  facility_binary_class  \n",
       "0                            1                      1  \n",
       "1                            1                      1  \n",
       "2                            1                      1  \n",
       "3                            1                      1  \n",
       "4                            1                      1  \n",
       "...                        ...                    ...  \n",
       "5763                         0                      0  \n",
       "5764                         1                      1  \n",
       "5765                         1                      1  \n",
       "5766                         0                      0  \n",
       "5767                         1                      1  \n",
       "\n",
       "[4879 rows x 9 columns]"
      ]
     },
     "execution_count": 228,
     "metadata": {},
     "output_type": "execute_result"
    }
   ],
   "source": [
    "facilityReview_df['facility_binary_class'] = np.where(facilityReview_df['Facilities'] > 3, 1, 0)\n",
    "facilityReview_df"
   ]
  },
  {
   "cell_type": "code",
   "execution_count": 229,
   "metadata": {},
   "outputs": [
    {
     "data": {
      "text/html": [
       "<div>\n",
       "<style scoped>\n",
       "    .dataframe tbody tr th:only-of-type {\n",
       "        vertical-align: middle;\n",
       "    }\n",
       "\n",
       "    .dataframe tbody tr th {\n",
       "        vertical-align: top;\n",
       "    }\n",
       "\n",
       "    .dataframe thead th {\n",
       "        text-align: right;\n",
       "    }\n",
       "</style>\n",
       "<table border=\"1\" class=\"dataframe\">\n",
       "  <thead>\n",
       "    <tr style=\"text-align: right;\">\n",
       "      <th></th>\n",
       "      <th>Unnamed: 0</th>\n",
       "      <th>Facility Name</th>\n",
       "      <th>Cleanliness</th>\n",
       "      <th>Facilities</th>\n",
       "      <th>Services</th>\n",
       "      <th>Value</th>\n",
       "      <th>Review</th>\n",
       "      <th>cleanliness_binary_class</th>\n",
       "      <th>facility_binary_class</th>\n",
       "      <th>services_binary_class</th>\n",
       "    </tr>\n",
       "  </thead>\n",
       "  <tbody>\n",
       "    <tr>\n",
       "      <th>0</th>\n",
       "      <td>0</td>\n",
       "      <td>Century Stone Dental</td>\n",
       "      <td>5</td>\n",
       "      <td>5</td>\n",
       "      <td>5</td>\n",
       "      <td>5.0</td>\n",
       "      <td>Just wanted to show some support for my dentis...</td>\n",
       "      <td>1</td>\n",
       "      <td>1</td>\n",
       "      <td>1</td>\n",
       "    </tr>\n",
       "    <tr>\n",
       "      <th>1</th>\n",
       "      <td>1</td>\n",
       "      <td>Century Stone Dental</td>\n",
       "      <td>5</td>\n",
       "      <td>5</td>\n",
       "      <td>5</td>\n",
       "      <td>5.0</td>\n",
       "      <td>Everyone from the front desk reception staff, ...</td>\n",
       "      <td>1</td>\n",
       "      <td>1</td>\n",
       "      <td>1</td>\n",
       "    </tr>\n",
       "    <tr>\n",
       "      <th>2</th>\n",
       "      <td>2</td>\n",
       "      <td>Century Stone Dental</td>\n",
       "      <td>5</td>\n",
       "      <td>5</td>\n",
       "      <td>5</td>\n",
       "      <td>5.0</td>\n",
       "      <td>Excellent service. My children had a tongue an...</td>\n",
       "      <td>1</td>\n",
       "      <td>1</td>\n",
       "      <td>1</td>\n",
       "    </tr>\n",
       "    <tr>\n",
       "      <th>3</th>\n",
       "      <td>3</td>\n",
       "      <td>Century Stone Dental</td>\n",
       "      <td>5</td>\n",
       "      <td>5</td>\n",
       "      <td>5</td>\n",
       "      <td>5.0</td>\n",
       "      <td>I had a great experience during my first visit...</td>\n",
       "      <td>1</td>\n",
       "      <td>1</td>\n",
       "      <td>1</td>\n",
       "    </tr>\n",
       "    <tr>\n",
       "      <th>4</th>\n",
       "      <td>4</td>\n",
       "      <td>Century Stone Dental</td>\n",
       "      <td>5</td>\n",
       "      <td>5</td>\n",
       "      <td>5</td>\n",
       "      <td>5.0</td>\n",
       "      <td>I couldn’t be more pleased with my experience ...</td>\n",
       "      <td>1</td>\n",
       "      <td>1</td>\n",
       "      <td>1</td>\n",
       "    </tr>\n",
       "    <tr>\n",
       "      <th>...</th>\n",
       "      <td>...</td>\n",
       "      <td>...</td>\n",
       "      <td>...</td>\n",
       "      <td>...</td>\n",
       "      <td>...</td>\n",
       "      <td>...</td>\n",
       "      <td>...</td>\n",
       "      <td>...</td>\n",
       "      <td>...</td>\n",
       "      <td>...</td>\n",
       "    </tr>\n",
       "    <tr>\n",
       "      <th>5763</th>\n",
       "      <td>1970</td>\n",
       "      <td>Centre Hospitalier Le Gardeaur</td>\n",
       "      <td>1</td>\n",
       "      <td>1</td>\n",
       "      <td>1</td>\n",
       "      <td>1.0</td>\n",
       "      <td>Worst hospital ever! Have been to ER 3 times a...</td>\n",
       "      <td>0</td>\n",
       "      <td>0</td>\n",
       "      <td>0</td>\n",
       "    </tr>\n",
       "    <tr>\n",
       "      <th>5764</th>\n",
       "      <td>1971</td>\n",
       "      <td>Centre Hospitalier Le Gardeaur</td>\n",
       "      <td>5</td>\n",
       "      <td>4</td>\n",
       "      <td>4</td>\n",
       "      <td>4.0</td>\n",
       "      <td>Le Centre hospitalier le Gardeur est en croiss...</td>\n",
       "      <td>1</td>\n",
       "      <td>1</td>\n",
       "      <td>1</td>\n",
       "    </tr>\n",
       "    <tr>\n",
       "      <th>5765</th>\n",
       "      <td>0</td>\n",
       "      <td>Holy Family Hospital</td>\n",
       "      <td>5</td>\n",
       "      <td>5</td>\n",
       "      <td>5</td>\n",
       "      <td>5.0</td>\n",
       "      <td>The Rehab floor is second to none. Great physi...</td>\n",
       "      <td>1</td>\n",
       "      <td>1</td>\n",
       "      <td>1</td>\n",
       "    </tr>\n",
       "    <tr>\n",
       "      <th>5766</th>\n",
       "      <td>1</td>\n",
       "      <td>Holy Family Hospital</td>\n",
       "      <td>1</td>\n",
       "      <td>1</td>\n",
       "      <td>2</td>\n",
       "      <td>1.0</td>\n",
       "      <td>Dirty, language barrier from many staff, in ed...</td>\n",
       "      <td>0</td>\n",
       "      <td>0</td>\n",
       "      <td>0</td>\n",
       "    </tr>\n",
       "    <tr>\n",
       "      <th>5767</th>\n",
       "      <td>2</td>\n",
       "      <td>Holy Family Hospital</td>\n",
       "      <td>4</td>\n",
       "      <td>4</td>\n",
       "      <td>5</td>\n",
       "      <td>5.0</td>\n",
       "      <td>Holy Family is an excellent rehab hospital. I ...</td>\n",
       "      <td>1</td>\n",
       "      <td>1</td>\n",
       "      <td>1</td>\n",
       "    </tr>\n",
       "  </tbody>\n",
       "</table>\n",
       "<p>4879 rows × 10 columns</p>\n",
       "</div>"
      ],
      "text/plain": [
       "      Unnamed: 0                   Facility Name  Cleanliness  Facilities  \\\n",
       "0              0            Century Stone Dental            5           5   \n",
       "1              1            Century Stone Dental            5           5   \n",
       "2              2            Century Stone Dental            5           5   \n",
       "3              3            Century Stone Dental            5           5   \n",
       "4              4            Century Stone Dental            5           5   \n",
       "...          ...                             ...          ...         ...   \n",
       "5763        1970  Centre Hospitalier Le Gardeaur            1           1   \n",
       "5764        1971  Centre Hospitalier Le Gardeaur            5           4   \n",
       "5765           0            Holy Family Hospital            5           5   \n",
       "5766           1            Holy Family Hospital            1           1   \n",
       "5767           2            Holy Family Hospital            4           4   \n",
       "\n",
       "      Services  Value                                             Review  \\\n",
       "0            5    5.0  Just wanted to show some support for my dentis...   \n",
       "1            5    5.0  Everyone from the front desk reception staff, ...   \n",
       "2            5    5.0  Excellent service. My children had a tongue an...   \n",
       "3            5    5.0  I had a great experience during my first visit...   \n",
       "4            5    5.0  I couldn’t be more pleased with my experience ...   \n",
       "...        ...    ...                                                ...   \n",
       "5763         1    1.0  Worst hospital ever! Have been to ER 3 times a...   \n",
       "5764         4    4.0  Le Centre hospitalier le Gardeur est en croiss...   \n",
       "5765         5    5.0  The Rehab floor is second to none. Great physi...   \n",
       "5766         2    1.0  Dirty, language barrier from many staff, in ed...   \n",
       "5767         5    5.0  Holy Family is an excellent rehab hospital. I ...   \n",
       "\n",
       "      cleanliness_binary_class  facility_binary_class  services_binary_class  \n",
       "0                            1                      1                      1  \n",
       "1                            1                      1                      1  \n",
       "2                            1                      1                      1  \n",
       "3                            1                      1                      1  \n",
       "4                            1                      1                      1  \n",
       "...                        ...                    ...                    ...  \n",
       "5763                         0                      0                      0  \n",
       "5764                         1                      1                      1  \n",
       "5765                         1                      1                      1  \n",
       "5766                         0                      0                      0  \n",
       "5767                         1                      1                      1  \n",
       "\n",
       "[4879 rows x 10 columns]"
      ]
     },
     "execution_count": 229,
     "metadata": {},
     "output_type": "execute_result"
    }
   ],
   "source": [
    "facilityReview_df['services_binary_class'] = np.where(facilityReview_df['Services'] > 3, 1, 0)\n",
    "facilityReview_df"
   ]
  },
  {
   "cell_type": "code",
   "execution_count": 230,
   "metadata": {},
   "outputs": [
    {
     "data": {
      "text/html": [
       "<div>\n",
       "<style scoped>\n",
       "    .dataframe tbody tr th:only-of-type {\n",
       "        vertical-align: middle;\n",
       "    }\n",
       "\n",
       "    .dataframe tbody tr th {\n",
       "        vertical-align: top;\n",
       "    }\n",
       "\n",
       "    .dataframe thead th {\n",
       "        text-align: right;\n",
       "    }\n",
       "</style>\n",
       "<table border=\"1\" class=\"dataframe\">\n",
       "  <thead>\n",
       "    <tr style=\"text-align: right;\">\n",
       "      <th></th>\n",
       "      <th>Unnamed: 0</th>\n",
       "      <th>Facility Name</th>\n",
       "      <th>Cleanliness</th>\n",
       "      <th>Facilities</th>\n",
       "      <th>Services</th>\n",
       "      <th>Value</th>\n",
       "      <th>Review</th>\n",
       "      <th>cleanliness_binary_class</th>\n",
       "      <th>facility_binary_class</th>\n",
       "      <th>services_binary_class</th>\n",
       "      <th>value_binary_class</th>\n",
       "    </tr>\n",
       "  </thead>\n",
       "  <tbody>\n",
       "    <tr>\n",
       "      <th>0</th>\n",
       "      <td>0</td>\n",
       "      <td>Century Stone Dental</td>\n",
       "      <td>5</td>\n",
       "      <td>5</td>\n",
       "      <td>5</td>\n",
       "      <td>5.0</td>\n",
       "      <td>Just wanted to show some support for my dentis...</td>\n",
       "      <td>1</td>\n",
       "      <td>1</td>\n",
       "      <td>1</td>\n",
       "      <td>1</td>\n",
       "    </tr>\n",
       "    <tr>\n",
       "      <th>1</th>\n",
       "      <td>1</td>\n",
       "      <td>Century Stone Dental</td>\n",
       "      <td>5</td>\n",
       "      <td>5</td>\n",
       "      <td>5</td>\n",
       "      <td>5.0</td>\n",
       "      <td>Everyone from the front desk reception staff, ...</td>\n",
       "      <td>1</td>\n",
       "      <td>1</td>\n",
       "      <td>1</td>\n",
       "      <td>1</td>\n",
       "    </tr>\n",
       "    <tr>\n",
       "      <th>2</th>\n",
       "      <td>2</td>\n",
       "      <td>Century Stone Dental</td>\n",
       "      <td>5</td>\n",
       "      <td>5</td>\n",
       "      <td>5</td>\n",
       "      <td>5.0</td>\n",
       "      <td>Excellent service. My children had a tongue an...</td>\n",
       "      <td>1</td>\n",
       "      <td>1</td>\n",
       "      <td>1</td>\n",
       "      <td>1</td>\n",
       "    </tr>\n",
       "    <tr>\n",
       "      <th>3</th>\n",
       "      <td>3</td>\n",
       "      <td>Century Stone Dental</td>\n",
       "      <td>5</td>\n",
       "      <td>5</td>\n",
       "      <td>5</td>\n",
       "      <td>5.0</td>\n",
       "      <td>I had a great experience during my first visit...</td>\n",
       "      <td>1</td>\n",
       "      <td>1</td>\n",
       "      <td>1</td>\n",
       "      <td>1</td>\n",
       "    </tr>\n",
       "    <tr>\n",
       "      <th>4</th>\n",
       "      <td>4</td>\n",
       "      <td>Century Stone Dental</td>\n",
       "      <td>5</td>\n",
       "      <td>5</td>\n",
       "      <td>5</td>\n",
       "      <td>5.0</td>\n",
       "      <td>I couldn’t be more pleased with my experience ...</td>\n",
       "      <td>1</td>\n",
       "      <td>1</td>\n",
       "      <td>1</td>\n",
       "      <td>1</td>\n",
       "    </tr>\n",
       "    <tr>\n",
       "      <th>...</th>\n",
       "      <td>...</td>\n",
       "      <td>...</td>\n",
       "      <td>...</td>\n",
       "      <td>...</td>\n",
       "      <td>...</td>\n",
       "      <td>...</td>\n",
       "      <td>...</td>\n",
       "      <td>...</td>\n",
       "      <td>...</td>\n",
       "      <td>...</td>\n",
       "      <td>...</td>\n",
       "    </tr>\n",
       "    <tr>\n",
       "      <th>5763</th>\n",
       "      <td>1970</td>\n",
       "      <td>Centre Hospitalier Le Gardeaur</td>\n",
       "      <td>1</td>\n",
       "      <td>1</td>\n",
       "      <td>1</td>\n",
       "      <td>1.0</td>\n",
       "      <td>Worst hospital ever! Have been to ER 3 times a...</td>\n",
       "      <td>0</td>\n",
       "      <td>0</td>\n",
       "      <td>0</td>\n",
       "      <td>0</td>\n",
       "    </tr>\n",
       "    <tr>\n",
       "      <th>5764</th>\n",
       "      <td>1971</td>\n",
       "      <td>Centre Hospitalier Le Gardeaur</td>\n",
       "      <td>5</td>\n",
       "      <td>4</td>\n",
       "      <td>4</td>\n",
       "      <td>4.0</td>\n",
       "      <td>Le Centre hospitalier le Gardeur est en croiss...</td>\n",
       "      <td>1</td>\n",
       "      <td>1</td>\n",
       "      <td>1</td>\n",
       "      <td>1</td>\n",
       "    </tr>\n",
       "    <tr>\n",
       "      <th>5765</th>\n",
       "      <td>0</td>\n",
       "      <td>Holy Family Hospital</td>\n",
       "      <td>5</td>\n",
       "      <td>5</td>\n",
       "      <td>5</td>\n",
       "      <td>5.0</td>\n",
       "      <td>The Rehab floor is second to none. Great physi...</td>\n",
       "      <td>1</td>\n",
       "      <td>1</td>\n",
       "      <td>1</td>\n",
       "      <td>1</td>\n",
       "    </tr>\n",
       "    <tr>\n",
       "      <th>5766</th>\n",
       "      <td>1</td>\n",
       "      <td>Holy Family Hospital</td>\n",
       "      <td>1</td>\n",
       "      <td>1</td>\n",
       "      <td>2</td>\n",
       "      <td>1.0</td>\n",
       "      <td>Dirty, language barrier from many staff, in ed...</td>\n",
       "      <td>0</td>\n",
       "      <td>0</td>\n",
       "      <td>0</td>\n",
       "      <td>0</td>\n",
       "    </tr>\n",
       "    <tr>\n",
       "      <th>5767</th>\n",
       "      <td>2</td>\n",
       "      <td>Holy Family Hospital</td>\n",
       "      <td>4</td>\n",
       "      <td>4</td>\n",
       "      <td>5</td>\n",
       "      <td>5.0</td>\n",
       "      <td>Holy Family is an excellent rehab hospital. I ...</td>\n",
       "      <td>1</td>\n",
       "      <td>1</td>\n",
       "      <td>1</td>\n",
       "      <td>1</td>\n",
       "    </tr>\n",
       "  </tbody>\n",
       "</table>\n",
       "<p>4879 rows × 11 columns</p>\n",
       "</div>"
      ],
      "text/plain": [
       "      Unnamed: 0                   Facility Name  Cleanliness  Facilities  \\\n",
       "0              0            Century Stone Dental            5           5   \n",
       "1              1            Century Stone Dental            5           5   \n",
       "2              2            Century Stone Dental            5           5   \n",
       "3              3            Century Stone Dental            5           5   \n",
       "4              4            Century Stone Dental            5           5   \n",
       "...          ...                             ...          ...         ...   \n",
       "5763        1970  Centre Hospitalier Le Gardeaur            1           1   \n",
       "5764        1971  Centre Hospitalier Le Gardeaur            5           4   \n",
       "5765           0            Holy Family Hospital            5           5   \n",
       "5766           1            Holy Family Hospital            1           1   \n",
       "5767           2            Holy Family Hospital            4           4   \n",
       "\n",
       "      Services  Value                                             Review  \\\n",
       "0            5    5.0  Just wanted to show some support for my dentis...   \n",
       "1            5    5.0  Everyone from the front desk reception staff, ...   \n",
       "2            5    5.0  Excellent service. My children had a tongue an...   \n",
       "3            5    5.0  I had a great experience during my first visit...   \n",
       "4            5    5.0  I couldn’t be more pleased with my experience ...   \n",
       "...        ...    ...                                                ...   \n",
       "5763         1    1.0  Worst hospital ever! Have been to ER 3 times a...   \n",
       "5764         4    4.0  Le Centre hospitalier le Gardeur est en croiss...   \n",
       "5765         5    5.0  The Rehab floor is second to none. Great physi...   \n",
       "5766         2    1.0  Dirty, language barrier from many staff, in ed...   \n",
       "5767         5    5.0  Holy Family is an excellent rehab hospital. I ...   \n",
       "\n",
       "      cleanliness_binary_class  facility_binary_class  services_binary_class  \\\n",
       "0                            1                      1                      1   \n",
       "1                            1                      1                      1   \n",
       "2                            1                      1                      1   \n",
       "3                            1                      1                      1   \n",
       "4                            1                      1                      1   \n",
       "...                        ...                    ...                    ...   \n",
       "5763                         0                      0                      0   \n",
       "5764                         1                      1                      1   \n",
       "5765                         1                      1                      1   \n",
       "5766                         0                      0                      0   \n",
       "5767                         1                      1                      1   \n",
       "\n",
       "      value_binary_class  \n",
       "0                      1  \n",
       "1                      1  \n",
       "2                      1  \n",
       "3                      1  \n",
       "4                      1  \n",
       "...                  ...  \n",
       "5763                   0  \n",
       "5764                   1  \n",
       "5765                   1  \n",
       "5766                   0  \n",
       "5767                   1  \n",
       "\n",
       "[4879 rows x 11 columns]"
      ]
     },
     "execution_count": 230,
     "metadata": {},
     "output_type": "execute_result"
    }
   ],
   "source": [
    "facilityReview_df['value_binary_class'] = np.where(facilityReview_df['Value'] > 3, 1, 0)\n",
    "facilityReview_df"
   ]
  },
  {
   "cell_type": "markdown",
   "metadata": {},
   "source": [
    "## We have divided the rest of the code in 4 parts, each part is an analysis for each review measure, it will give deep insight about every measure and will help to discuss managerial implications"
   ]
  },
  {
   "cell_type": "markdown",
   "metadata": {},
   "source": [
    "#splitting the data into 75% train and 25% test data, we will work on cleanliness data to get the negative and positive words corresponsing to the cleanliness ratings and then we will check that for rest of the ratings though the ratings for services and value are not that different as we saw in the above graphs and from describe() method."
   ]
  },
  {
   "cell_type": "markdown",
   "metadata": {},
   "source": [
    "# CLEANLINESS"
   ]
  },
  {
   "cell_type": "code",
   "execution_count": 231,
   "metadata": {},
   "outputs": [],
   "source": [
    "#splitting into train and test\n",
    "from sklearn.model_selection import train_test_split\n",
    "X_train, X_test, y_train_clean, y_test_clean = train_test_split(facilityReview_df['Review'], facilityReview_df['cleanliness_binary_class'], random_state = 0)"
   ]
  },
  {
   "cell_type": "markdown",
   "metadata": {},
   "source": [
    "To check how our training sets look"
   ]
  },
  {
   "cell_type": "code",
   "execution_count": 232,
   "metadata": {},
   "outputs": [
    {
     "data": {
      "text/plain": [
       "(4856    Waited in room for 45 mins to get all of 2 min...\n",
       " 1681    Dr. Rachel Bell is the best. She provides exce...\n",
       " 585     My family and I have been seeing Dr. Joel for ...\n",
       " 849     I drive 45 minutes to LightHouse dental clinic...\n",
       " 3492    The quickest place to go for tests and minor s...\n",
       "                               ...                        \n",
       " 5746    Slipped and fell and broke my leg on january 2...\n",
       " 3490    vvvvvvvvvvvvvvvvvvvvvvvveeeeeeeeeeeeeeeeeeeeee...\n",
       " 1685    My wife and I had such an amazing experience a...\n",
       " 2675    Very good service. Will recommend to anyone. W...\n",
       " 2821    I had the best experience at this emergency ro...\n",
       " Name: Review, Length: 3659, dtype: object,\n",
       " 4856    0\n",
       " 1681    1\n",
       " 585     1\n",
       " 849     1\n",
       " 3492    1\n",
       "        ..\n",
       " 5746    1\n",
       " 3490    1\n",
       " 1685    1\n",
       " 2675    1\n",
       " 2821    1\n",
       " Name: cleanliness_binary_class, Length: 3659, dtype: int64)"
      ]
     },
     "execution_count": 232,
     "metadata": {},
     "output_type": "execute_result"
    }
   ],
   "source": [
    "X_train , y_train_clean"
   ]
  },
  {
   "cell_type": "markdown",
   "metadata": {},
   "source": [
    "## Get important libraries"
   ]
  },
  {
   "cell_type": "code",
   "execution_count": 233,
   "metadata": {},
   "outputs": [],
   "source": [
    "import nltk\n",
    "# nltk.download('punkt')\n",
    "# nltk.download('wordnet')\n",
    "from nltk.tokenize import word_tokenize\n",
    "from nltk.stem.wordnet import WordNetLemmatizer"
   ]
  },
  {
   "cell_type": "code",
   "execution_count": 234,
   "metadata": {},
   "outputs": [],
   "source": [
    "from nltk.corpus import stopwords"
   ]
  },
  {
   "cell_type": "markdown",
   "metadata": {},
   "source": [
    "## Feature Extraction"
   ]
  },
  {
   "cell_type": "code",
   "execution_count": 235,
   "metadata": {},
   "outputs": [
    {
     "name": "stderr",
     "output_type": "stream",
     "text": [
      "/Users/harshitbansal/anaconda3/lib/python3.7/site-packages/sklearn/feature_extraction/text.py:385: UserWarning: Your stop_words may be inconsistent with your preprocessing. Tokenizing the stop words generated tokens [\"'d\", \"'ll\", \"'re\", \"'s\", \"'ve\", 'could', 'doe', 'ha', 'might', 'must', \"n't\", 'need', 'sha', 'wa', 'wo', 'would'] not in stop_words.\n",
      "  'stop_words.' % sorted(inconsistent))\n"
     ]
    }
   ],
   "source": [
    "#importing countvectorizer\n",
    "from sklearn.feature_extraction.text import CountVectorizer\n",
    "#creating variable which assigns X_train to numbers\n",
    "\n",
    "class LemmaTokenizer(object):\n",
    "    def __init__(self):\n",
    "        self.wnl = WordNetLemmatizer()\n",
    "    def __call__(self, articles):\n",
    "        return [self.wnl.lemmatize(t) for t in word_tokenize(articles)]\n",
    "\n",
    "vect = CountVectorizer(tokenizer=LemmaTokenizer(),\n",
    "                                strip_accents = 'unicode',\n",
    "                                stop_words=stopwords.words('english'),\n",
    "                                lowercase = True)\n",
    "count_result = vect.fit_transform(X_train)"
   ]
  },
  {
   "cell_type": "markdown",
   "metadata": {},
   "source": [
    "### Using TF-IDF to evaluates how relevant a word is to a document in a collection of documents. This is done by multiplying two metrics: how many times a word appears in a document, and the inverse document frequency of the word across a set of documents."
   ]
  },
  {
   "cell_type": "code",
   "execution_count": 236,
   "metadata": {},
   "outputs": [
    {
     "name": "stdout",
     "output_type": "stream",
     "text": [
      "[[0.         0.         0.         ... 0.         0.         0.        ]\n",
      " [0.         0.         0.         ... 0.         0.         0.        ]\n",
      " [0.         0.         0.         ... 0.         0.         0.        ]\n",
      " ...\n",
      " [0.         0.         0.         ... 0.         0.         0.        ]\n",
      " [0.         0.         0.         ... 0.         0.         0.        ]\n",
      " [0.14050748 0.         0.         ... 0.         0.         0.        ]]\n"
     ]
    }
   ],
   "source": [
    "from sklearn.feature_extraction.text import TfidfTransformer\n",
    "tfidf_transformer = TfidfTransformer()\n",
    "tfidf_result = tfidf_transformer.fit_transform(count_result)\n",
    "print(tfidf_result.toarray())"
   ]
  },
  {
   "cell_type": "markdown",
   "metadata": {},
   "source": [
    "## Performing logisitic regression with text features"
   ]
  },
  {
   "cell_type": "code",
   "execution_count": 237,
   "metadata": {},
   "outputs": [
    {
     "data": {
      "text/plain": [
       "LogisticRegression(C=1.0, class_weight=None, dual=False, fit_intercept=True,\n",
       "                   intercept_scaling=1, l1_ratio=None, max_iter=100,\n",
       "                   multi_class='auto', n_jobs=None, penalty='l2',\n",
       "                   random_state=None, solver='lbfgs', tol=0.0001, verbose=0,\n",
       "                   warm_start=False)"
      ]
     },
     "execution_count": 237,
     "metadata": {},
     "output_type": "execute_result"
    }
   ],
   "source": [
    "#creating log regression\n",
    "from sklearn.linear_model import LogisticRegression\n",
    "model1 = LogisticRegression()\n",
    "model1.fit(tfidf_result, y_train_clean)"
   ]
  },
  {
   "cell_type": "markdown",
   "metadata": {},
   "source": [
    "## Area under the curve percentage depicts the accuracy of the model. "
   ]
  },
  {
   "cell_type": "code",
   "execution_count": 238,
   "metadata": {},
   "outputs": [
    {
     "name": "stdout",
     "output_type": "stream",
     "text": [
      "AUC:  0.8789684310400706\n"
     ]
    }
   ],
   "source": [
    "#calculating AUC\n",
    "from sklearn.metrics import roc_auc_score\n",
    "predictions = model1.predict(vect.transform(X_test))\n",
    "print('AUC: ', roc_auc_score(y_test_clean, predictions))"
   ]
  },
  {
   "cell_type": "markdown",
   "metadata": {},
   "source": [
    "We will be able to pinpoint specific words with a high impact on rating sentiment. This information could be an asset for Facilities (if used for their entire internal dataset — not this not so big sample we have). For example, the word “rude” likely has a negative coefficient, pushing our classifier to label that review as bad. The word “great” likely has a positive coefficient, pushing our classifier to label that review as good. The goal is discovery. We don’t know what interesting words may appear to have an impact on sentiment, and that’s the fun part. Does the word “great” outweigh “horrible” and net positive or negative? Many questions like this will be answered with our model."
   ]
  },
  {
   "cell_type": "code",
   "execution_count": 239,
   "metadata": {},
   "outputs": [
    {
     "data": {
      "text/html": [
       "<div>\n",
       "<style scoped>\n",
       "    .dataframe tbody tr th:only-of-type {\n",
       "        vertical-align: middle;\n",
       "    }\n",
       "\n",
       "    .dataframe tbody tr th {\n",
       "        vertical-align: top;\n",
       "    }\n",
       "\n",
       "    .dataframe thead th {\n",
       "        text-align: right;\n",
       "    }\n",
       "</style>\n",
       "<table border=\"1\" class=\"dataframe\">\n",
       "  <thead>\n",
       "    <tr style=\"text-align: right;\">\n",
       "      <th></th>\n",
       "      <th>Word</th>\n",
       "      <th>Coef</th>\n",
       "    </tr>\n",
       "  </thead>\n",
       "  <tbody>\n",
       "    <tr>\n",
       "      <th>8565</th>\n",
       "      <td>rude</td>\n",
       "      <td>-3.795659</td>\n",
       "    </tr>\n",
       "    <tr>\n",
       "      <th>10830</th>\n",
       "      <td>worst</td>\n",
       "      <td>-3.753583</td>\n",
       "    </tr>\n",
       "    <tr>\n",
       "      <th>4931</th>\n",
       "      <td>horrible</td>\n",
       "      <td>-3.034906</td>\n",
       "    </tr>\n",
       "    <tr>\n",
       "      <th>9834</th>\n",
       "      <td>terrible</td>\n",
       "      <td>-3.019632</td>\n",
       "    </tr>\n",
       "    <tr>\n",
       "      <th>9983</th>\n",
       "      <td>told</td>\n",
       "      <td>-2.625176</td>\n",
       "    </tr>\n",
       "    <tr>\n",
       "      <th>...</th>\n",
       "      <td>...</td>\n",
       "      <td>...</td>\n",
       "    </tr>\n",
       "    <tr>\n",
       "      <th>3359</th>\n",
       "      <td>dr.</td>\n",
       "      <td>2.653983</td>\n",
       "    </tr>\n",
       "    <tr>\n",
       "      <th>907</th>\n",
       "      <td>amazing</td>\n",
       "      <td>2.902391</td>\n",
       "    </tr>\n",
       "    <tr>\n",
       "      <th>1500</th>\n",
       "      <td>best</td>\n",
       "      <td>3.128553</td>\n",
       "    </tr>\n",
       "    <tr>\n",
       "      <th>3873</th>\n",
       "      <td>excellent</td>\n",
       "      <td>3.221958</td>\n",
       "    </tr>\n",
       "    <tr>\n",
       "      <th>4578</th>\n",
       "      <td>great</td>\n",
       "      <td>3.603668</td>\n",
       "    </tr>\n",
       "  </tbody>\n",
       "</table>\n",
       "<p>10989 rows × 2 columns</p>\n",
       "</div>"
      ],
      "text/plain": [
       "            Word      Coef\n",
       "8565        rude -3.795659\n",
       "10830      worst -3.753583\n",
       "4931    horrible -3.034906\n",
       "9834    terrible -3.019632\n",
       "9983        told -2.625176\n",
       "...          ...       ...\n",
       "3359         dr.  2.653983\n",
       "907      amazing  2.902391\n",
       "1500        best  3.128553\n",
       "3873   excellent  3.221958\n",
       "4578       great  3.603668\n",
       "\n",
       "[10989 rows x 2 columns]"
      ]
     },
     "execution_count": 239,
     "metadata": {},
     "output_type": "execute_result"
    }
   ],
   "source": [
    "#creating array variable of all the words\n",
    "feature_names = np.array(vect.get_feature_names())\n",
    "#creating array of all the regression coefficients per word\n",
    "coef_index = model1.coef_[0]\n",
    "#creating df with both arrays in it\n",
    "Word_prediction_df = pd.DataFrame({'Word':feature_names, 'Coef': coef_index})\n",
    "#sorting by coefficient\n",
    "Word_prediction_df.sort_values('Coef')"
   ]
  },
  {
   "cell_type": "markdown",
   "metadata": {},
   "source": [
    "# SERVICES"
   ]
  },
  {
   "cell_type": "code",
   "execution_count": 22,
   "metadata": {},
   "outputs": [],
   "source": [
    "#splitting into train and test\n",
    "from sklearn.model_selection import train_test_split\n",
    "X_train, X_test, y_train_service, y_test_service = train_test_split(facilityReview_df['Review'], facilityReview_df['services_binary_class'], random_state = 0)"
   ]
  },
  {
   "cell_type": "code",
   "execution_count": 23,
   "metadata": {},
   "outputs": [
    {
     "data": {
      "text/plain": [
       "LogisticRegression(C=1.0, class_weight=None, dual=False, fit_intercept=True,\n",
       "                   intercept_scaling=1, l1_ratio=None, max_iter=100,\n",
       "                   multi_class='auto', n_jobs=None, penalty='l2',\n",
       "                   random_state=None, solver='lbfgs', tol=0.0001, verbose=0,\n",
       "                   warm_start=False)"
      ]
     },
     "execution_count": 23,
     "metadata": {},
     "output_type": "execute_result"
    }
   ],
   "source": [
    "model2 = LogisticRegression()\n",
    "model2.fit(tfidf_result, y_train_service)"
   ]
  },
  {
   "cell_type": "code",
   "execution_count": 24,
   "metadata": {},
   "outputs": [
    {
     "name": "stdout",
     "output_type": "stream",
     "text": [
      "AUC:  0.9094084683588637\n"
     ]
    }
   ],
   "source": [
    "#calculating AUC\n",
    "from sklearn.metrics import roc_auc_score\n",
    "predictions = model2.predict(vect.transform(X_test))\n",
    "print('AUC: ', roc_auc_score(y_test_service, predictions))"
   ]
  },
  {
   "cell_type": "code",
   "execution_count": 25,
   "metadata": {},
   "outputs": [
    {
     "data": {
      "text/html": [
       "<div>\n",
       "<style scoped>\n",
       "    .dataframe tbody tr th:only-of-type {\n",
       "        vertical-align: middle;\n",
       "    }\n",
       "\n",
       "    .dataframe tbody tr th {\n",
       "        vertical-align: top;\n",
       "    }\n",
       "\n",
       "    .dataframe thead th {\n",
       "        text-align: right;\n",
       "    }\n",
       "</style>\n",
       "<table border=\"1\" class=\"dataframe\">\n",
       "  <thead>\n",
       "    <tr style=\"text-align: right;\">\n",
       "      <th></th>\n",
       "      <th>Word</th>\n",
       "      <th>Coef</th>\n",
       "    </tr>\n",
       "  </thead>\n",
       "  <tbody>\n",
       "    <tr>\n",
       "      <th>9892</th>\n",
       "      <td>rude</td>\n",
       "      <td>-4.927669</td>\n",
       "    </tr>\n",
       "    <tr>\n",
       "      <th>12518</th>\n",
       "      <td>worst</td>\n",
       "      <td>-3.950513</td>\n",
       "    </tr>\n",
       "    <tr>\n",
       "      <th>5752</th>\n",
       "      <td>horrible</td>\n",
       "      <td>-3.459078</td>\n",
       "    </tr>\n",
       "    <tr>\n",
       "      <th>11348</th>\n",
       "      <td>terrible</td>\n",
       "      <td>-3.055656</td>\n",
       "    </tr>\n",
       "    <tr>\n",
       "      <th>11527</th>\n",
       "      <td>told</td>\n",
       "      <td>-2.744146</td>\n",
       "    </tr>\n",
       "    <tr>\n",
       "      <th>...</th>\n",
       "      <td>...</td>\n",
       "      <td>...</td>\n",
       "    </tr>\n",
       "    <tr>\n",
       "      <th>5054</th>\n",
       "      <td>friendly</td>\n",
       "      <td>3.388244</td>\n",
       "    </tr>\n",
       "    <tr>\n",
       "      <th>3947</th>\n",
       "      <td>dr.</td>\n",
       "      <td>3.424697</td>\n",
       "    </tr>\n",
       "    <tr>\n",
       "      <th>4524</th>\n",
       "      <td>excellent</td>\n",
       "      <td>3.874643</td>\n",
       "    </tr>\n",
       "    <tr>\n",
       "      <th>1802</th>\n",
       "      <td>best</td>\n",
       "      <td>4.440097</td>\n",
       "    </tr>\n",
       "    <tr>\n",
       "      <th>5343</th>\n",
       "      <td>great</td>\n",
       "      <td>4.921789</td>\n",
       "    </tr>\n",
       "  </tbody>\n",
       "</table>\n",
       "<p>12702 rows × 2 columns</p>\n",
       "</div>"
      ],
      "text/plain": [
       "            Word      Coef\n",
       "9892        rude -4.927669\n",
       "12518      worst -3.950513\n",
       "5752    horrible -3.459078\n",
       "11348   terrible -3.055656\n",
       "11527       told -2.744146\n",
       "...          ...       ...\n",
       "5054    friendly  3.388244\n",
       "3947         dr.  3.424697\n",
       "4524   excellent  3.874643\n",
       "1802        best  4.440097\n",
       "5343       great  4.921789\n",
       "\n",
       "[12702 rows x 2 columns]"
      ]
     },
     "execution_count": 25,
     "metadata": {},
     "output_type": "execute_result"
    }
   ],
   "source": [
    "#creating array variable of all the words\n",
    "feature_names = np.array(vect.get_feature_names())\n",
    "#creating array of all the regression coefficients per word\n",
    "coef_index = model2.coef_[0]\n",
    "#creating df with both arrays in it\n",
    "Word_prediction_df = pd.DataFrame({'Word':feature_names, 'Coef': coef_index})\n",
    "#sorting by coefficient\n",
    "Word_prediction_df.sort_values('Coef')"
   ]
  },
  {
   "cell_type": "markdown",
   "metadata": {},
   "source": [
    "# VALUE"
   ]
  },
  {
   "cell_type": "code",
   "execution_count": 26,
   "metadata": {},
   "outputs": [],
   "source": [
    "#splitting into train and test\n",
    "from sklearn.model_selection import train_test_split\n",
    "X_train, X_test, y_train_value, y_test_value = train_test_split(facilityReview_df['Review'], facilityReview_df['value_binary_class'], random_state = 0)"
   ]
  },
  {
   "cell_type": "code",
   "execution_count": 27,
   "metadata": {},
   "outputs": [
    {
     "data": {
      "text/plain": [
       "LogisticRegression(C=1.0, class_weight=None, dual=False, fit_intercept=True,\n",
       "                   intercept_scaling=1, l1_ratio=None, max_iter=100,\n",
       "                   multi_class='auto', n_jobs=None, penalty='l2',\n",
       "                   random_state=None, solver='lbfgs', tol=0.0001, verbose=0,\n",
       "                   warm_start=False)"
      ]
     },
     "execution_count": 27,
     "metadata": {},
     "output_type": "execute_result"
    }
   ],
   "source": [
    "model3 = LogisticRegression()\n",
    "model3.fit(tfidf_result, y_train_value)"
   ]
  },
  {
   "cell_type": "code",
   "execution_count": 28,
   "metadata": {},
   "outputs": [
    {
     "name": "stdout",
     "output_type": "stream",
     "text": [
      "AUC:  0.8850325033869553\n"
     ]
    }
   ],
   "source": [
    "#calculating AUC\n",
    "from sklearn.metrics import roc_auc_score\n",
    "predictions = model3.predict(vect.transform(X_test))\n",
    "print('AUC: ', roc_auc_score(y_test_value, predictions))"
   ]
  },
  {
   "cell_type": "code",
   "execution_count": 29,
   "metadata": {
    "scrolled": false
   },
   "outputs": [
    {
     "data": {
      "text/html": [
       "<div>\n",
       "<style scoped>\n",
       "    .dataframe tbody tr th:only-of-type {\n",
       "        vertical-align: middle;\n",
       "    }\n",
       "\n",
       "    .dataframe tbody tr th {\n",
       "        vertical-align: top;\n",
       "    }\n",
       "\n",
       "    .dataframe thead th {\n",
       "        text-align: right;\n",
       "    }\n",
       "</style>\n",
       "<table border=\"1\" class=\"dataframe\">\n",
       "  <thead>\n",
       "    <tr style=\"text-align: right;\">\n",
       "      <th></th>\n",
       "      <th>Word</th>\n",
       "      <th>Coef</th>\n",
       "    </tr>\n",
       "  </thead>\n",
       "  <tbody>\n",
       "    <tr>\n",
       "      <th>9892</th>\n",
       "      <td>rude</td>\n",
       "      <td>-4.381947</td>\n",
       "    </tr>\n",
       "    <tr>\n",
       "      <th>12518</th>\n",
       "      <td>worst</td>\n",
       "      <td>-3.842559</td>\n",
       "    </tr>\n",
       "    <tr>\n",
       "      <th>5752</th>\n",
       "      <td>horrible</td>\n",
       "      <td>-3.330017</td>\n",
       "    </tr>\n",
       "    <tr>\n",
       "      <th>5796</th>\n",
       "      <td>hour</td>\n",
       "      <td>-2.991947</td>\n",
       "    </tr>\n",
       "    <tr>\n",
       "      <th>11348</th>\n",
       "      <td>terrible</td>\n",
       "      <td>-2.956292</td>\n",
       "    </tr>\n",
       "    <tr>\n",
       "      <th>...</th>\n",
       "      <td>...</td>\n",
       "      <td>...</td>\n",
       "    </tr>\n",
       "    <tr>\n",
       "      <th>1117</th>\n",
       "      <td>amazing</td>\n",
       "      <td>2.750457</td>\n",
       "    </tr>\n",
       "    <tr>\n",
       "      <th>3947</th>\n",
       "      <td>dr.</td>\n",
       "      <td>3.139903</td>\n",
       "    </tr>\n",
       "    <tr>\n",
       "      <th>1802</th>\n",
       "      <td>best</td>\n",
       "      <td>4.407131</td>\n",
       "    </tr>\n",
       "    <tr>\n",
       "      <th>4524</th>\n",
       "      <td>excellent</td>\n",
       "      <td>4.414667</td>\n",
       "    </tr>\n",
       "    <tr>\n",
       "      <th>5343</th>\n",
       "      <td>great</td>\n",
       "      <td>4.604742</td>\n",
       "    </tr>\n",
       "  </tbody>\n",
       "</table>\n",
       "<p>12702 rows × 2 columns</p>\n",
       "</div>"
      ],
      "text/plain": [
       "            Word      Coef\n",
       "9892        rude -4.381947\n",
       "12518      worst -3.842559\n",
       "5752    horrible -3.330017\n",
       "5796        hour -2.991947\n",
       "11348   terrible -2.956292\n",
       "...          ...       ...\n",
       "1117     amazing  2.750457\n",
       "3947         dr.  3.139903\n",
       "1802        best  4.407131\n",
       "4524   excellent  4.414667\n",
       "5343       great  4.604742\n",
       "\n",
       "[12702 rows x 2 columns]"
      ]
     },
     "execution_count": 29,
     "metadata": {},
     "output_type": "execute_result"
    }
   ],
   "source": [
    "#creating array variable of all the words\n",
    "feature_names = np.array(vect.get_feature_names())\n",
    "#creating array of all the regression coefficients per word\n",
    "coef_index = model3.coef_[0]\n",
    "#creating df with both arrays in it\n",
    "Word_prediction_df = pd.DataFrame({'Word':feature_names, 'Coef': coef_index})\n",
    "#sorting by coefficient\n",
    "Word_prediction_df.sort_values('Coef')"
   ]
  },
  {
   "cell_type": "code",
   "execution_count": 209,
   "metadata": {},
   "outputs": [
    {
     "name": "stdout",
     "output_type": "stream",
     "text": [
      "[0]\n",
      "[1]\n",
      "[1]\n"
     ]
    }
   ],
   "source": [
    "print(model1.predict(vect.transform(['They tried to photo copy my drivers license which is illegal and rude. Then they started adding fees and quoting prices before I was really even examined'])))\n",
    "print(model3.predict(vect.transform(['I have seen Dr. Huang twice now and have found him to be dismissive and seemingly bored'])))\n",
    "print(model1.predict(vect.transform(['I’m very horrible pleased and happy with the nice front desk staff of this office. Hygienist and doctors were very nice also. I Recommend to everyone'])))"
   ]
  },
  {
   "cell_type": "markdown",
   "metadata": {},
   "source": [
    "# FACILITY"
   ]
  },
  {
   "cell_type": "code",
   "execution_count": 210,
   "metadata": {},
   "outputs": [],
   "source": [
    "#splitting into train and test\n",
    "from sklearn.model_selection import train_test_split\n",
    "X_train, X_test, y_train_facility, y_test_facility = train_test_split(facilityReview_df['Review'], facilityReview_df['facility_binary_class'], random_state = 0)"
   ]
  },
  {
   "cell_type": "code",
   "execution_count": 240,
   "metadata": {},
   "outputs": [
    {
     "data": {
      "text/plain": [
       "LogisticRegression(C=1.0, class_weight=None, dual=False, fit_intercept=True,\n",
       "                   intercept_scaling=1, l1_ratio=None, max_iter=100,\n",
       "                   multi_class='auto', n_jobs=None, penalty='l2',\n",
       "                   random_state=None, solver='lbfgs', tol=0.0001, verbose=0,\n",
       "                   warm_start=False)"
      ]
     },
     "execution_count": 240,
     "metadata": {},
     "output_type": "execute_result"
    }
   ],
   "source": [
    "model3 = LogisticRegression()\n",
    "model3.fit(tfidf_result, y_train_facility)"
   ]
  },
  {
   "cell_type": "code",
   "execution_count": 241,
   "metadata": {},
   "outputs": [
    {
     "name": "stdout",
     "output_type": "stream",
     "text": [
      "AUC:  0.8778883738438845\n"
     ]
    }
   ],
   "source": [
    "#calculating AUC\n",
    "from sklearn.metrics import roc_auc_score\n",
    "predictions = model3.predict(vect.transform(X_test))\n",
    "print('AUC: ', roc_auc_score(y_test_facility, predictions))"
   ]
  },
  {
   "cell_type": "code",
   "execution_count": 242,
   "metadata": {},
   "outputs": [
    {
     "data": {
      "text/html": [
       "<div>\n",
       "<style scoped>\n",
       "    .dataframe tbody tr th:only-of-type {\n",
       "        vertical-align: middle;\n",
       "    }\n",
       "\n",
       "    .dataframe tbody tr th {\n",
       "        vertical-align: top;\n",
       "    }\n",
       "\n",
       "    .dataframe thead th {\n",
       "        text-align: right;\n",
       "    }\n",
       "</style>\n",
       "<table border=\"1\" class=\"dataframe\">\n",
       "  <thead>\n",
       "    <tr style=\"text-align: right;\">\n",
       "      <th></th>\n",
       "      <th>Word</th>\n",
       "      <th>Coef</th>\n",
       "    </tr>\n",
       "  </thead>\n",
       "  <tbody>\n",
       "    <tr>\n",
       "      <th>8565</th>\n",
       "      <td>rude</td>\n",
       "      <td>-3.988934</td>\n",
       "    </tr>\n",
       "    <tr>\n",
       "      <th>9834</th>\n",
       "      <td>terrible</td>\n",
       "      <td>-3.687551</td>\n",
       "    </tr>\n",
       "    <tr>\n",
       "      <th>10830</th>\n",
       "      <td>worst</td>\n",
       "      <td>-3.524776</td>\n",
       "    </tr>\n",
       "    <tr>\n",
       "      <th>4931</th>\n",
       "      <td>horrible</td>\n",
       "      <td>-3.522707</td>\n",
       "    </tr>\n",
       "    <tr>\n",
       "      <th>9983</th>\n",
       "      <td>told</td>\n",
       "      <td>-2.401540</td>\n",
       "    </tr>\n",
       "    <tr>\n",
       "      <th>...</th>\n",
       "      <td>...</td>\n",
       "      <td>...</td>\n",
       "    </tr>\n",
       "    <tr>\n",
       "      <th>4331</th>\n",
       "      <td>friendly</td>\n",
       "      <td>2.728140</td>\n",
       "    </tr>\n",
       "    <tr>\n",
       "      <th>1500</th>\n",
       "      <td>best</td>\n",
       "      <td>2.932923</td>\n",
       "    </tr>\n",
       "    <tr>\n",
       "      <th>907</th>\n",
       "      <td>amazing</td>\n",
       "      <td>3.069434</td>\n",
       "    </tr>\n",
       "    <tr>\n",
       "      <th>3873</th>\n",
       "      <td>excellent</td>\n",
       "      <td>3.392719</td>\n",
       "    </tr>\n",
       "    <tr>\n",
       "      <th>4578</th>\n",
       "      <td>great</td>\n",
       "      <td>3.457760</td>\n",
       "    </tr>\n",
       "  </tbody>\n",
       "</table>\n",
       "<p>10989 rows × 2 columns</p>\n",
       "</div>"
      ],
      "text/plain": [
       "            Word      Coef\n",
       "8565        rude -3.988934\n",
       "9834    terrible -3.687551\n",
       "10830      worst -3.524776\n",
       "4931    horrible -3.522707\n",
       "9983        told -2.401540\n",
       "...          ...       ...\n",
       "4331    friendly  2.728140\n",
       "1500        best  2.932923\n",
       "907      amazing  3.069434\n",
       "3873   excellent  3.392719\n",
       "4578       great  3.457760\n",
       "\n",
       "[10989 rows x 2 columns]"
      ]
     },
     "execution_count": 242,
     "metadata": {},
     "output_type": "execute_result"
    }
   ],
   "source": [
    "#creating array variable of all the words\n",
    "feature_names = np.array(vect.get_feature_names())\n",
    "#creating array of all the regression coefficients per word\n",
    "coef_index = model3.coef_[0]\n",
    "#creating df with both arrays in it\n",
    "Word_prediction_df = pd.DataFrame({'Word':feature_names, 'Coef': coef_index})\n",
    "#sorting by coefficient\n",
    "Word_prediction_df.sort_values('Coef')"
   ]
  },
  {
   "cell_type": "markdown",
   "metadata": {},
   "source": [
    "## Well, It was an interesting analysis to know what are the most hated or loved thing when a person visit any facility in Canada."
   ]
  },
  {
   "cell_type": "code",
   "execution_count": null,
   "metadata": {},
   "outputs": [],
   "source": []
  }
 ],
 "metadata": {
  "kernelspec": {
   "display_name": "Python 3",
   "language": "python",
   "name": "python3"
  },
  "language_info": {
   "codemirror_mode": {
    "name": "ipython",
    "version": 3
   },
   "file_extension": ".py",
   "mimetype": "text/x-python",
   "name": "python",
   "nbconvert_exporter": "python",
   "pygments_lexer": "ipython3",
   "version": "3.7.6"
  }
 },
 "nbformat": 4,
 "nbformat_minor": 4
}
